{
 "cells": [
  {
   "cell_type": "code",
   "execution_count": 1,
   "id": "ea10af95",
   "metadata": {},
   "outputs": [
    {
     "name": "stdout",
     "output_type": "stream",
     "text": [
      "Requirement already satisfied: selenium in c:\\users\\visha\\anaconda3\\lib\\site-packages (4.29.0)\n",
      "Requirement already satisfied: webdriver-manager in c:\\users\\visha\\anaconda3\\lib\\site-packages (4.0.2)\n",
      "Requirement already satisfied: urllib3[socks]<3,>=1.26 in c:\\users\\visha\\anaconda3\\lib\\site-packages (from selenium) (1.26.16)\n",
      "Requirement already satisfied: trio~=0.17 in c:\\users\\visha\\anaconda3\\lib\\site-packages (from selenium) (0.29.0)\n",
      "Requirement already satisfied: trio-websocket~=0.9 in c:\\users\\visha\\anaconda3\\lib\\site-packages (from selenium) (0.12.2)\n",
      "Requirement already satisfied: certifi>=2021.10.8 in c:\\users\\visha\\anaconda3\\lib\\site-packages (from selenium) (2023.11.17)\n",
      "Requirement already satisfied: typing_extensions~=4.9 in c:\\users\\visha\\anaconda3\\lib\\site-packages (from selenium) (4.12.2)\n",
      "Requirement already satisfied: websocket-client~=1.8 in c:\\users\\visha\\anaconda3\\lib\\site-packages (from selenium) (1.8.0)\n",
      "Requirement already satisfied: requests in c:\\users\\visha\\anaconda3\\lib\\site-packages (from webdriver-manager) (2.31.0)\n",
      "Requirement already satisfied: python-dotenv in c:\\users\\visha\\anaconda3\\lib\\site-packages (from webdriver-manager) (0.21.0)\n",
      "Requirement already satisfied: packaging in c:\\users\\visha\\anaconda3\\lib\\site-packages (from webdriver-manager) (23.1)\n",
      "Requirement already satisfied: attrs>=23.2.0 in c:\\users\\visha\\anaconda3\\lib\\site-packages (from trio~=0.17->selenium) (25.1.0)\n",
      "Requirement already satisfied: sortedcontainers in c:\\users\\visha\\anaconda3\\lib\\site-packages (from trio~=0.17->selenium) (2.4.0)\n",
      "Requirement already satisfied: idna in c:\\users\\visha\\anaconda3\\lib\\site-packages (from trio~=0.17->selenium) (3.4)\n",
      "Requirement already satisfied: outcome in c:\\users\\visha\\anaconda3\\lib\\site-packages (from trio~=0.17->selenium) (1.3.0.post0)\n",
      "Requirement already satisfied: sniffio>=1.3.0 in c:\\users\\visha\\anaconda3\\lib\\site-packages (from trio~=0.17->selenium) (1.3.1)\n",
      "Requirement already satisfied: cffi>=1.14 in c:\\users\\visha\\anaconda3\\lib\\site-packages (from trio~=0.17->selenium) (1.15.1)\n",
      "Requirement already satisfied: wsproto>=0.14 in c:\\users\\visha\\anaconda3\\lib\\site-packages (from trio-websocket~=0.9->selenium) (1.2.0)\n",
      "Requirement already satisfied: PySocks!=1.5.7,<2.0,>=1.5.6 in c:\\users\\visha\\anaconda3\\lib\\site-packages (from urllib3[socks]<3,>=1.26->selenium) (1.7.1)\n",
      "Requirement already satisfied: charset-normalizer<4,>=2 in c:\\users\\visha\\anaconda3\\lib\\site-packages (from requests->webdriver-manager) (2.0.4)\n",
      "Requirement already satisfied: pycparser in c:\\users\\visha\\anaconda3\\lib\\site-packages (from cffi>=1.14->trio~=0.17->selenium) (2.21)\n",
      "Requirement already satisfied: h11<1,>=0.9.0 in c:\\users\\visha\\anaconda3\\lib\\site-packages (from wsproto>=0.14->trio-websocket~=0.9->selenium) (0.14.0)\n"
     ]
    }
   ],
   "source": [
    "!pip install selenium webdriver-manager"
   ]
  },
  {
   "cell_type": "code",
   "execution_count": 2,
   "id": "c49dc843",
   "metadata": {},
   "outputs": [],
   "source": [
    "import os\n",
    "import csv\n",
    "import time\n",
    "import base64\n",
    "import requests\n",
    "from selenium import webdriver\n",
    "from selenium.webdriver.chrome.service import Service\n",
    "from webdriver_manager.chrome import ChromeDriverManager\n",
    "from selenium.webdriver.common.by import By"
   ]
  },
  {
   "cell_type": "code",
   "execution_count": 3,
   "id": "51015447",
   "metadata": {},
   "outputs": [],
   "source": [
    "# Define categories\n",
    "categories = [\n",
    "    \"cats\", \"dogs\", \"cars\", \"mountains\", \"sunsets\",\n",
    "    \"birds\", \"flowers\", \"skyscrapers\", \"beaches\", \"forests\",\n",
    "    \"food\", \"sports\", \"books\", \"bicycles\", \"street art\",\n",
    "    \"technology\", \"musical instruments\", \"historical landmarks\", \"wild animals\", \"space\"\n",
    "]"
   ]
  },
  {
   "cell_type": "code",
   "execution_count": 4,
   "id": "a5b9754f",
   "metadata": {},
   "outputs": [],
   "source": [
    "# Set up Chrome WebDriver\n",
    "options = webdriver.ChromeOptions()\n",
    "options.add_argument(\"--headless\")  # Run in headless mode\n",
    "driver = webdriver.Chrome(service=Service(ChromeDriverManager().install()), options=options)\n",
    "\n",
    "# Ensure output directories exist\n",
    "os.makedirs(\"images\", exist_ok=True)"
   ]
  },
  {
   "cell_type": "code",
   "execution_count": 5,
   "id": "a4584287",
   "metadata": {},
   "outputs": [
    {
     "data": {
      "text/plain": [
       "40"
      ]
     },
     "execution_count": 5,
     "metadata": {},
     "output_type": "execute_result"
    }
   ],
   "source": [
    "# CSV file to store metadata\n",
    "csv_file = open(\"image_metadata.csv\", \"w\", newline=\"\", encoding=\"utf-8\")\n",
    "csv_writer = csv.writer(csv_file)\n",
    "csv_writer.writerow([\"Category\", \"Image_URL\", \"Filename\", \"Resolution\"])"
   ]
  },
  {
   "cell_type": "code",
   "execution_count": 6,
   "id": "928e915a",
   "metadata": {},
   "outputs": [],
   "source": [
    "# Function to download images\n",
    "def download_images(category):\n",
    "    search_url = f\"https://www.google.com/search?tbm=isch&q={category}\"\n",
    "    driver.get(search_url)\n",
    "    time.sleep(3)\n",
    "\n",
    "    images = driver.find_elements(By.TAG_NAME, \"img\")[1:51]\n",
    "    category_folder = f\"images/{category}\"\n",
    "    os.makedirs(category_folder, exist_ok=True)\n",
    "\n",
    "    for idx, img in enumerate(images):\n",
    "        img_url = img.get_attribute(\"src\")\n",
    "\n",
    "        if img_url:\n",
    "            filename = f\"{category}_{idx}.jpg\"\n",
    "            filepath = os.path.join(category_folder, filename)\n",
    "\n",
    "            if img_url.startswith(\"data:image\"):  # Handle Base64 images\n",
    "                image_data = img_url.split(\",\", 1)[1]  # Get the Base64 data part\n",
    "                with open(filepath, \"wb\") as file:\n",
    "                    file.write(base64.b64decode(image_data))\n",
    "            else:  # Handle normal URL-based images\n",
    "                try:\n",
    "                    response = requests.get(img_url, timeout=5)\n",
    "                    if response.status_code == 200:\n",
    "                        with open(filepath, \"wb\") as file:\n",
    "                            file.write(response.content)\n",
    "                except Exception as e:\n",
    "                    print(f\"Skipping image {idx} for {category} due to error: {e}\")\n",
    "            \n",
    "            csv_writer.writerow([category, img_url, filename, \"N/A\"])"
   ]
  },
  {
   "cell_type": "code",
   "execution_count": 7,
   "id": "42dd5fac",
   "metadata": {},
   "outputs": [
    {
     "name": "stdout",
     "output_type": "stream",
     "text": [
      "Image dataset collection completed.\n"
     ]
    }
   ],
   "source": [
    "# Download images for each category\n",
    "for category in categories:\n",
    "    download_images(category)\n",
    "\n",
    "csv_file.close()\n",
    "driver.quit()\n",
    "print(\"Image dataset collection completed.\")"
   ]
  },
  {
   "cell_type": "markdown",
   "id": "fafdfef7",
   "metadata": {},
   "source": [
    "Dataset Name: VisualScope-20"
   ]
  },
  {
   "cell_type": "markdown",
   "id": "bc909d5c",
   "metadata": {},
   "source": [
    "Use Case: Can be used for training image classification models, object detection, or content-based image retrieval systems."
   ]
  }
 ],
 "metadata": {
  "kernelspec": {
   "display_name": "Python 3 (ipykernel)",
   "language": "python",
   "name": "python3"
  },
  "language_info": {
   "codemirror_mode": {
    "name": "ipython",
    "version": 3
   },
   "file_extension": ".py",
   "mimetype": "text/x-python",
   "name": "python",
   "nbconvert_exporter": "python",
   "pygments_lexer": "ipython3",
   "version": "3.11.5"
  }
 },
 "nbformat": 4,
 "nbformat_minor": 5
}
