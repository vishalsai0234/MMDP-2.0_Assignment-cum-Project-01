{
 "cells": [
  {
   "cell_type": "code",
   "execution_count": 11,
   "metadata": {},
   "outputs": [],
   "source": [
    "import requests\n",
    "import csv\n",
    "import time"
   ]
  },
  {
   "cell_type": "code",
   "execution_count": 12,
   "metadata": {},
   "outputs": [],
   "source": [
    "# API Key (Replace if necessary)\n",
    "API_KEY = \"JmdtfzQGpf9oKop2ZSyvdA==zVZyyxYHzqZtD9gk\"\n",
    "API_URL = \"https://api.api-ninjas.com/v1/weather?lat={}&lon={}\"\n"
   ]
  },
  {
   "cell_type": "code",
   "execution_count": 13,
   "metadata": {},
   "outputs": [],
   "source": [
    "\n",
    "# List of 20 Indian cities with Latitude & Longitude\n",
    "cities = [\n",
    "    (\"Mumbai\", 19.0760, 72.8777),\n",
    "    (\"Delhi\", 28.7041, 77.1025),\n",
    "    (\"Bangalore\", 12.9716, 77.5946),\n",
    "    (\"Hyderabad\", 17.3850, 78.4867),\n",
    "    (\"Chennai\", 13.0827, 80.2707),\n",
    "    (\"Kolkata\", 22.5726, 88.3639),\n",
    "    (\"Pune\", 18.5204, 73.8567),\n",
    "    (\"Ahmedabad\", 23.0225, 72.5714),\n",
    "    (\"Jaipur\", 26.9124, 75.7873),\n",
    "    (\"Lucknow\", 26.8467, 80.9462),\n",
    "    (\"Kanpur\", 26.4499, 80.3319),\n",
    "    (\"Nagpur\", 21.1458, 79.0882),\n",
    "    (\"Indore\", 22.7196, 75.8577),\n",
    "    (\"Bhopal\", 23.2599, 77.4126),\n",
    "    (\"Visakhapatnam\", 17.6868, 83.2185),\n",
    "    (\"Patna\", 25.5941, 85.1376),\n",
    "    (\"Ludhiana\", 30.9010, 75.8573),\n",
    "    (\"Agra\", 27.1767, 78.0081),\n",
    "    (\"Nashik\", 19.9975, 73.7898),\n",
    "    (\"Vadodara\", 22.3072, 73.1812)\n",
    "]\n",
    "\n",
    "# CSV File to store data\n",
    "csv_filename = \"indian_cities_weather.csv\"\n"
   ]
  },
  {
   "cell_type": "code",
   "execution_count": 16,
   "metadata": {},
   "outputs": [
    {
     "name": "stdout",
     "output_type": "stream",
     "text": [
      "✅ Mumbai: 29°C, 32%, 0 m/s\n",
      "✅ Delhi: 20°C, 49%, 1.03 m/s\n",
      "✅ Bangalore: 24°C, 39%, 2.57 m/s\n",
      "✅ Hyderabad: 24°C, 33%, 2.57 m/s\n",
      "✅ Chennai: 27°C, 78%, 3.09 m/s\n",
      "✅ Kolkata: 24°C, 53%, 2.06 m/s\n",
      "✅ Pune: 26°C, 15%, 1.23 m/s\n",
      "✅ Ahmedabad: 25°C, 36%, 1.03 m/s\n",
      "✅ Jaipur: 23°C, 28%, 2.57 m/s\n",
      "✅ Lucknow: 19°C, 52%, 2.57 m/s\n",
      "✅ Kanpur: 21°C, 17%, 0.9 m/s\n",
      "✅ Nagpur: 24°C, 23%, 1.54 m/s\n",
      "✅ Indore: 23°C, 33%, 0 m/s\n",
      "✅ Bhopal: 24°C, 16%, 0.4 m/s\n",
      "✅ Visakhapatnam: 26°C, 83%, 1.03 m/s\n",
      "✅ Patna: 21°C, 64%, 0 m/s\n",
      "✅ Ludhiana: 16°C, 42%, 2.66 m/s\n",
      "✅ Agra: 22°C, 18%, 0.35 m/s\n",
      "✅ Nashik: 24°C, 15%, 2.32 m/s\n",
      "✅ Vadodara: 28°C, 18%, 2.25 m/s\n",
      "\n",
      "✅ Weather data saved in 'indian_cities_weather.csv' successfully!\n"
     ]
    }
   ],
   "source": [
    "\n",
    "# Open CSV file in write mode\n",
    "with open(csv_filename, mode=\"w\", newline=\"\", encoding=\"utf-8\") as file:\n",
    "    writer = csv.writer(file)\n",
    "    writer.writerow([\"City\", \"Temperature (°C)\", \"Humidity (%)\", \"Wind Speed (m/s)\"])\n",
    "\n",
    "    for city, lat, lon in cities:\n",
    "        # API request\n",
    "        response = requests.get(API_URL.format(lat, lon), headers={'X-Api-Key': API_KEY})\n",
    "        \n",
    "        if response.status_code == 200:\n",
    "            data = response.json()\n",
    "            temperature = data.get(\"temp\", \"N/A\")\n",
    "            humidity = data.get(\"humidity\", \"N/A\")\n",
    "            wind_speed = data.get(\"wind_speed\", \"N/A\")\n",
    "            \n",
    "            \n",
    "            print(f\"✅ {city}: {temperature}°C, {humidity}%, {wind_speed} m/s\")\n",
    "            \n",
    "            # Write data to CSV\n",
    "            writer.writerow([city, temperature, humidity, wind_speed])\n",
    "        else:\n",
    "            print(f\"❌ Error fetching data for {city}: {response.status_code}\")\n",
    "\n",
    "        # Delay to avoid hitting API rate limits\n",
    "        time.sleep(1)\n",
    "\n",
    "print(f\"\\n✅ Weather data saved in '{csv_filename}' successfully!\")"
   ]
  },
  {
   "cell_type": "code",
   "execution_count": null,
   "metadata": {},
   "outputs": [],
   "source": []
  }
 ],
 "metadata": {
  "kernelspec": {
   "display_name": "Python 3 (ipykernel)",
   "language": "python",
   "name": "python3"
  },
  "language_info": {
   "codemirror_mode": {
    "name": "ipython",
    "version": 3
   },
   "file_extension": ".py",
   "mimetype": "text/x-python",
   "name": "python",
   "nbconvert_exporter": "python",
   "pygments_lexer": "ipython3",
   "version": "3.11.5"
  }
 },
 "nbformat": 4,
 "nbformat_minor": 2
}
